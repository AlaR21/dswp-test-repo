{
 "cells": [
  {
   "cell_type": "code",
   "execution_count": 9,
   "id": "initial_id",
   "metadata": {
    "collapsed": true,
    "ExecuteTime": {
     "end_time": "2024-02-21T20:51:45.991579300Z",
     "start_time": "2024-02-21T20:51:45.980587900Z"
    }
   },
   "outputs": [
    {
     "name": "stdout",
     "output_type": "stream",
     "text": [
      "List is too long (4 elements, expected <=4)\n"
     ]
    }
   ],
   "source": [
    "lista = [1, 2, 3, 4]\n",
    "\n",
    "if (n := len(lista)) >3:\n",
    "    print(f'List is too long ({n} elements, expected <=4)')"
   ]
  },
  {
   "cell_type": "code",
   "outputs": [
    {
     "name": "stdout",
     "output_type": "stream",
     "text": [
      "7\n"
     ]
    }
   ],
   "source": [
    "imie = 'Natalia'\n",
    "print(len(imie))"
   ],
   "metadata": {
    "collapsed": false,
    "ExecuteTime": {
     "end_time": "2024-02-21T20:53:46.681641400Z",
     "start_time": "2024-02-21T20:53:46.672146Z"
    }
   },
   "id": "3485ffdcfbeb47af",
   "execution_count": 10
  },
  {
   "cell_type": "code",
   "outputs": [
    {
     "name": "stdout",
     "output_type": "stream",
     "text": [
      " Witaj Ola\n"
     ]
    }
   ],
   "source": [
    "imie = input('Wpisz imię: \\n')\n",
    "print(f' Witaj {imie}')"
   ],
   "metadata": {
    "collapsed": false,
    "ExecuteTime": {
     "end_time": "2024-02-21T20:58:33.991371800Z",
     "start_time": "2024-02-21T20:58:31.845532500Z"
    }
   },
   "id": "22e091967aa76617",
   "execution_count": 12
  },
  {
   "cell_type": "markdown",
   "source": [],
   "metadata": {
    "collapsed": false
   },
   "id": "d99956396bc8d7ec"
  },
  {
   "cell_type": "markdown",
   "source": [],
   "metadata": {
    "collapsed": false
   },
   "id": "56b81b76c3fb1ced"
  },
  {
   "cell_type": "code",
   "outputs": [
    {
     "name": "stdout",
     "output_type": "stream",
     "text": [
      "6\n",
      "123456\n",
      "6\n"
     ]
    }
   ],
   "source": [
    "sentence = input('Wpisz dowolny tekst: \\n')\n",
    "\n",
    "print(len(sentence))\n",
    "\n",
    "sentence2 = sentence.lstrip()\n",
    "print(sentence2)\n",
    "\n",
    "print(len(sentence2))\n"
   ],
   "metadata": {
    "collapsed": false,
    "ExecuteTime": {
     "end_time": "2024-02-21T21:05:35.673206300Z",
     "start_time": "2024-02-21T21:05:30.551408800Z"
    }
   },
   "id": "7af97e1532f4abf4",
   "execution_count": 22
  },
  {
   "cell_type": "code",
   "outputs": [
    {
     "name": "stdout",
     "output_type": "stream",
     "text": [
      "W podanym zdaniu jest 7 znaków.\n"
     ]
    }
   ],
   "source": [
    "sentence = input('Wpisz dowolny tekst: \\n')\n",
    "\n",
    "print('W podanym zdaniu jest', len(sentence), 'znaków.')"
   ],
   "metadata": {
    "collapsed": false,
    "ExecuteTime": {
     "end_time": "2024-02-21T21:09:27.369869700Z",
     "start_time": "2024-02-21T21:09:24.489213200Z"
    }
   },
   "id": "12f1af15faf69625",
   "execution_count": 27
  },
  {
   "cell_type": "code",
   "outputs": [
    {
     "name": "stdout",
     "output_type": "stream",
     "text": [
      "Czy zdanie rozpoczyna się wielką literą? ->  True\n"
     ]
    }
   ],
   "source": [
    "words = input('Wpisz dowolny tekst: \\n')\n",
    "\n",
    "print('Czy zdanie rozpoczyna się wielką literą? -> ', words[0].istitle())"
   ],
   "metadata": {
    "collapsed": false,
    "ExecuteTime": {
     "end_time": "2024-02-21T21:11:48.491949900Z",
     "start_time": "2024-02-21T21:11:44.679494300Z"
    }
   },
   "id": "6a8bda7ca34eeee5",
   "execution_count": 30
  },
  {
   "cell_type": "code",
   "outputs": [
    {
     "name": "stdout",
     "output_type": "stream",
     "text": [
      "Czy zdanie rozpoczyna się od litery? ->  False\n"
     ]
    }
   ],
   "source": [
    "words = input('Wpisz dowolny tekst: \\n')\n",
    "\n",
    "print('Czy zdanie rozpoczyna się od litery? -> ', words[0].isalpha())"
   ],
   "metadata": {
    "collapsed": false,
    "ExecuteTime": {
     "end_time": "2024-02-21T21:13:18.921183600Z",
     "start_time": "2024-02-21T21:13:15.503225500Z"
    }
   },
   "id": "21fb0fd5e36a88ed",
   "execution_count": 36
  },
  {
   "cell_type": "code",
   "outputs": [
    {
     "name": "stdout",
     "output_type": "stream",
     "text": [
      "Czy liczba jest liczbą całkowitą? ->  False\n"
     ]
    }
   ],
   "source": [
    "num = input('Wpisz dowolna liczbe: \\n')\n",
    "\n",
    "print('Czy liczba jest liczbą całkowitą? -> ', num.isdigit())"
   ],
   "metadata": {
    "collapsed": false,
    "ExecuteTime": {
     "end_time": "2024-02-21T21:14:41.928460900Z",
     "start_time": "2024-02-21T21:14:40.108791200Z"
    }
   },
   "id": "a25a4ebe3d814baf",
   "execution_count": 38
  },
  {
   "cell_type": "code",
   "outputs": [
    {
     "name": "stdout",
     "output_type": "stream",
     "text": [
      "00741\n"
     ]
    }
   ],
   "source": [
    "num = input('Wpisz dowolna liczbe: \\n')\n",
    "\n",
    "print(num.zfill(5))"
   ],
   "metadata": {
    "collapsed": false,
    "ExecuteTime": {
     "end_time": "2024-02-21T21:16:45.607616200Z",
     "start_time": "2024-02-21T21:16:42.642807700Z"
    }
   },
   "id": "d846e789807da05a",
   "execution_count": 42
  },
  {
   "cell_type": "code",
   "outputs": [
    {
     "name": "stdout",
     "output_type": "stream",
     "text": [
      "Lubię język Python oraz Java\n"
     ]
    }
   ],
   "source": [
    "print('Lubię język {1} oraz {0}'.format('Java', 'Python'))\n"
   ],
   "metadata": {
    "collapsed": false,
    "ExecuteTime": {
     "end_time": "2024-02-21T21:25:41.075322Z",
     "start_time": "2024-02-21T21:25:41.068404900Z"
    }
   },
   "id": "1f95206aa8850f85",
   "execution_count": 44
  },
  {
   "cell_type": "code",
   "outputs": [
    {
     "name": "stdout",
     "output_type": "stream",
     "text": [
      "Imię zapisane wielkimi literami to Natalia\n"
     ]
    }
   ],
   "source": [
    "name = input('Wpisz dowolne imię: \\n')\n",
    "print(f'Imię zapisane wielkimi literami to {name.capitalize()}')"
   ],
   "metadata": {
    "collapsed": false,
    "ExecuteTime": {
     "end_time": "2024-02-21T21:30:58.426095300Z",
     "start_time": "2024-02-21T21:30:55.800951500Z"
    }
   },
   "id": "f9ab4a25addfcbf0",
   "execution_count": 45
  },
  {
   "cell_type": "code",
   "outputs": [
    {
     "name": "stdout",
     "output_type": "stream",
     "text": [
      "Wynik dodawania 33.33 oraz 66.67 to  100.0000\n"
     ]
    }
   ],
   "source": [
    "print(f'Wynik dodawania 33.33 oraz 66.67 to {33.33 + 66.67: .4f}')"
   ],
   "metadata": {
    "collapsed": false,
    "ExecuteTime": {
     "end_time": "2024-02-21T21:31:23.490785500Z",
     "start_time": "2024-02-21T21:31:23.474222700Z"
    }
   },
   "id": "c86786236dff8666",
   "execution_count": 46
  },
  {
   "cell_type": "code",
   "outputs": [
    {
     "name": "stdout",
     "output_type": "stream",
     "text": [
      "W zdaniu jest 0 oraz 0\n"
     ]
    }
   ],
   "source": [
    "sentence = input('Wpisz dowolny tekst: \\n')\n",
    "print(f'W zdaniu jest {sentence.count(\"h\")} oraz {sentence.count(\"t\")}')"
   ],
   "metadata": {
    "collapsed": false,
    "ExecuteTime": {
     "end_time": "2024-02-21T21:38:08.862514900Z",
     "start_time": "2024-02-21T21:38:02.811565400Z"
    }
   },
   "id": "d2bc90ce2382a873",
   "execution_count": 50
  },
  {
   "cell_type": "code",
   "outputs": [],
   "source": [],
   "metadata": {
    "collapsed": false
   },
   "id": "f32f957231163985"
  }
 ],
 "metadata": {
  "kernelspec": {
   "display_name": "Python 3",
   "language": "python",
   "name": "python3"
  },
  "language_info": {
   "codemirror_mode": {
    "name": "ipython",
    "version": 2
   },
   "file_extension": ".py",
   "mimetype": "text/x-python",
   "name": "python",
   "nbconvert_exporter": "python",
   "pygments_lexer": "ipython2",
   "version": "2.7.6"
  }
 },
 "nbformat": 4,
 "nbformat_minor": 5
}
