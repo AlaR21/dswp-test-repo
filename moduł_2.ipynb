{
 "cells": [
  {
   "cell_type": "code",
   "execution_count": 14,
   "id": "initial_id",
   "metadata": {
    "ExecuteTime": {
     "end_time": "2024-02-21T20:51:45.991579300Z",
     "start_time": "2024-02-21T20:51:45.980587900Z"
    },
    "collapsed": true
   },
   "outputs": [
    {
     "name": "stdout",
     "output_type": "stream",
     "text": [
      "List is too long (4 elements, expected <=4)\n"
     ]
    }
   ],
   "source": [
    "lista = [1, 2, 3, 4]\n",
    "\n",
    "if (n := len(lista)) >3:\n",
    "    print(f'List is too long ({n} elements, expected <=4)')"
   ]
  },
  {
   "cell_type": "code",
   "execution_count": 15,
   "id": "3485ffdcfbeb47af",
   "metadata": {
    "ExecuteTime": {
     "end_time": "2024-02-21T20:53:46.681641400Z",
     "start_time": "2024-02-21T20:53:46.672146Z"
    },
    "collapsed": false
   },
   "outputs": [
    {
     "name": "stdout",
     "output_type": "stream",
     "text": [
      "7\n"
     ]
    }
   ],
   "source": [
    "imie = 'Natalia'\n",
    "print(len(imie))"
   ]
  },
  {
   "cell_type": "code",
   "execution_count": 16,
   "id": "22e091967aa76617",
   "metadata": {
    "ExecuteTime": {
     "end_time": "2024-02-21T20:58:33.991371800Z",
     "start_time": "2024-02-21T20:58:31.845532500Z"
    },
    "collapsed": false
   },
   "outputs": [
    {
     "name": "stdout",
     "output_type": "stream",
     "text": [
      " Witaj \n"
     ]
    }
   ],
   "source": [
    "imie = input('Wpisz imię: \\n')\n",
    "print(f' Witaj {imie}')"
   ]
  },
  {
   "cell_type": "markdown",
   "id": "d99956396bc8d7ec",
   "metadata": {
    "collapsed": false
   },
   "source": []
  },
  {
   "cell_type": "markdown",
   "id": "56b81b76c3fb1ced",
   "metadata": {
    "collapsed": false
   },
   "source": []
  },
  {
   "cell_type": "code",
   "execution_count": 17,
   "id": "7af97e1532f4abf4",
   "metadata": {
    "ExecuteTime": {
     "end_time": "2024-02-21T21:05:35.673206300Z",
     "start_time": "2024-02-21T21:05:30.551408800Z"
    },
    "collapsed": false
   },
   "outputs": [
    {
     "name": "stdout",
     "output_type": "stream",
     "text": [
      "0\n",
      "\n",
      "0\n"
     ]
    }
   ],
   "source": [
    "sentence = input('Wpisz dowolny tekst: \\n')\n",
    "\n",
    "print(len(sentence))\n",
    "\n",
    "sentence2 = sentence.lstrip()\n",
    "print(sentence2)\n",
    "\n",
    "print(len(sentence2))\n"
   ]
  },
  {
   "cell_type": "code",
   "execution_count": 18,
   "id": "12f1af15faf69625",
   "metadata": {
    "ExecuteTime": {
     "end_time": "2024-02-21T21:09:27.369869700Z",
     "start_time": "2024-02-21T21:09:24.489213200Z"
    },
    "collapsed": false
   },
   "outputs": [
    {
     "name": "stdout",
     "output_type": "stream",
     "text": [
      "W podanym zdaniu jest 0 znaków.\n"
     ]
    }
   ],
   "source": [
    "sentence = input('Wpisz dowolny tekst: \\n')\n",
    "\n",
    "print('W podanym zdaniu jest', len(sentence), 'znaków.')"
   ]
  },
  {
   "cell_type": "code",
   "execution_count": 19,
   "id": "6a8bda7ca34eeee5",
   "metadata": {
    "ExecuteTime": {
     "end_time": "2024-02-21T21:11:48.491949900Z",
     "start_time": "2024-02-21T21:11:44.679494300Z"
    },
    "collapsed": false
   },
   "outputs": [
    {
     "ename": "IndexError",
     "evalue": "string index out of range",
     "output_type": "error",
     "traceback": [
      "\u001b[1;31m---------------------------------------------------------------------------\u001b[0m",
      "\u001b[1;31mIndexError\u001b[0m                                Traceback (most recent call last)",
      "Cell \u001b[1;32mIn[19], line 3\u001b[0m\n\u001b[0;32m      1\u001b[0m words \u001b[38;5;241m=\u001b[39m \u001b[38;5;28minput\u001b[39m(\u001b[38;5;124m'\u001b[39m\u001b[38;5;124mWpisz dowolny tekst: \u001b[39m\u001b[38;5;130;01m\\n\u001b[39;00m\u001b[38;5;124m'\u001b[39m)\n\u001b[1;32m----> 3\u001b[0m \u001b[38;5;28mprint\u001b[39m(\u001b[38;5;124m'\u001b[39m\u001b[38;5;124mCzy zdanie rozpoczyna się wielką literą? -> \u001b[39m\u001b[38;5;124m'\u001b[39m, \u001b[43mwords\u001b[49m\u001b[43m[\u001b[49m\u001b[38;5;241;43m0\u001b[39;49m\u001b[43m]\u001b[49m\u001b[38;5;241m.\u001b[39mistitle())\n",
      "\u001b[1;31mIndexError\u001b[0m: string index out of range"
     ]
    }
   ],
   "source": [
    "words = input('Wpisz dowolny tekst: \\n')\n",
    "\n",
    "print('Czy zdanie rozpoczyna się wielką literą? -> ', words[0].istitle())"
   ]
  },
  {
   "cell_type": "code",
   "execution_count": null,
   "id": "21fb0fd5e36a88ed",
   "metadata": {
    "ExecuteTime": {
     "end_time": "2024-02-21T21:13:18.921183600Z",
     "start_time": "2024-02-21T21:13:15.503225500Z"
    },
    "collapsed": false
   },
   "outputs": [
    {
     "name": "stdout",
     "output_type": "stream",
     "text": [
      "Czy zdanie rozpoczyna się od litery? ->  True\n"
     ]
    }
   ],
   "source": [
    "words = input('Wpisz dowolny tekst: \\n')\n",
    "\n",
    "print('Czy zdanie rozpoczyna się od litery? -> ', words[0].isalpha())"
   ]
  },
  {
   "cell_type": "code",
   "execution_count": null,
   "id": "a25a4ebe3d814baf",
   "metadata": {
    "ExecuteTime": {
     "end_time": "2024-02-21T21:14:41.928460900Z",
     "start_time": "2024-02-21T21:14:40.108791200Z"
    },
    "collapsed": false
   },
   "outputs": [
    {
     "name": "stdout",
     "output_type": "stream",
     "text": [
      "Czy liczba jest liczbą całkowitą? ->  False\n"
     ]
    }
   ],
   "source": [
    "num = input('Wpisz dowolna liczbe: \\n')\n",
    "\n",
    "print('Czy liczba jest liczbą całkowitą? -> ', num.isdigit())"
   ]
  },
  {
   "cell_type": "code",
   "execution_count": null,
   "id": "d846e789807da05a",
   "metadata": {
    "ExecuteTime": {
     "end_time": "2024-02-21T21:16:45.607616200Z",
     "start_time": "2024-02-21T21:16:42.642807700Z"
    },
    "collapsed": false
   },
   "outputs": [
    {
     "name": "stdout",
     "output_type": "stream",
     "text": [
      "ethsrhghr\n"
     ]
    }
   ],
   "source": [
    "num = input('Wpisz dowolna liczbe: \\n')\n",
    "\n",
    "print(num.zfill(5))"
   ]
  },
  {
   "cell_type": "code",
   "execution_count": null,
   "id": "1f95206aa8850f85",
   "metadata": {
    "ExecuteTime": {
     "end_time": "2024-02-21T21:25:41.075322Z",
     "start_time": "2024-02-21T21:25:41.068404900Z"
    },
    "collapsed": false
   },
   "outputs": [
    {
     "name": "stdout",
     "output_type": "stream",
     "text": [
      "Lubię język Python oraz Java\n"
     ]
    }
   ],
   "source": [
    "print('Lubię język {1} oraz {0}'.format('Java', 'Python'))\n"
   ]
  },
  {
   "cell_type": "code",
   "execution_count": null,
   "id": "f9ab4a25addfcbf0",
   "metadata": {
    "ExecuteTime": {
     "end_time": "2024-02-21T21:30:58.426095300Z",
     "start_time": "2024-02-21T21:30:55.800951500Z"
    },
    "collapsed": false
   },
   "outputs": [
    {
     "name": "stdout",
     "output_type": "stream",
     "text": [
      "Imię zapisane wielkimi literami to Natalia\n"
     ]
    }
   ],
   "source": [
    "name = input('Wpisz dowolne imię: \\n')\n",
    "print(f'Imię zapisane wielkimi literami to {name.capitalize()}')"
   ]
  },
  {
   "cell_type": "code",
   "execution_count": null,
   "id": "c86786236dff8666",
   "metadata": {
    "ExecuteTime": {
     "end_time": "2024-02-21T21:31:23.490785500Z",
     "start_time": "2024-02-21T21:31:23.474222700Z"
    },
    "collapsed": false
   },
   "outputs": [
    {
     "name": "stdout",
     "output_type": "stream",
     "text": [
      "Wynik dodawania 33.33 oraz 66.67 to  100.0000\n"
     ]
    }
   ],
   "source": [
    "print(f'Wynik dodawania 33.33 oraz 66.67 to {33.33 + 66.67: .4f}')"
   ]
  },
  {
   "cell_type": "code",
   "execution_count": null,
   "id": "f32f957231163985",
   "metadata": {
    "collapsed": false
   },
   "outputs": [
    {
     "name": "stdout",
     "output_type": "stream",
     "text": [
      "300000\n"
     ]
    }
   ],
   "source": [
    "class House:\n",
    "\n",
    "    area = 100\n",
    "\n",
    "    def get_price(self):\n",
    "        return 3000 * self.area\n",
    "    \n",
    "\n",
    "d = House()\n",
    "print(d.get_price())    "
   ]
  },
  {
   "cell_type": "code",
   "execution_count": 20,
   "id": "e6826320",
   "metadata": {},
   "outputs": [
    {
     "name": "stdout",
     "output_type": "stream",
     "text": [
      "Gwiezdne Wojny\n",
      "Jumanji\n"
     ]
    }
   ],
   "source": [
    "class Movie:\n",
    "\n",
    "    title = \"\"\n",
    "\n",
    "\n",
    "m1 = Movie()\n",
    "m1.title = \"Gwiezdne Wojny\"\n",
    "print(m1.title)\n",
    "m2 = Movie()\n",
    "m2.title = \"Jumanji\"\n",
    "print(m2.title)"
   ]
  },
  {
   "cell_type": "code",
   "execution_count": 21,
   "id": "33b9f57d",
   "metadata": {},
   "outputs": [
    {
     "name": "stdout",
     "output_type": "stream",
     "text": [
      "True\n",
      "Hello Anna\n"
     ]
    }
   ],
   "source": [
    "class Person:\n",
    "    firstname = \"John\"\n",
    "    lastname = \"Smith\"\n",
    "    age = 36\n",
    "\n",
    "    def welcome(self):\n",
    "        print('Hello', self.firstname)\n",
    "\n",
    "    def is_adult(self):\n",
    "        return self.age>=18\n",
    "\n",
    "p1 = Person()\n",
    "p1.firstname = \"Anna\"\n",
    "p1.lastname = \"Smith\"\n",
    "p1.age = 28\n",
    "print(p1.is_adult())\n",
    "p1.welcome()    "
   ]
  },
  {
   "cell_type": "code",
   "execution_count": 24,
   "id": "efc3240e",
   "metadata": {},
   "outputs": [
    {
     "name": "stdout",
     "output_type": "stream",
     "text": [
      "3 7\n"
     ]
    }
   ],
   "source": [
    "class Point:\n",
    "    pass\n",
    "\n",
    "\n",
    "p1 = Point()\n",
    "p1.x = 3\n",
    "p1.y = 7\n",
    "print(p1.x, p1.y)\n",
    "p2 = Point()\n",
    "# print(p2.x, p2.y)"
   ]
  },
  {
   "cell_type": "code",
   "execution_count": 26,
   "id": "a1f0149c",
   "metadata": {},
   "outputs": [
    {
     "name": "stdout",
     "output_type": "stream",
     "text": [
      "4.242640687119285\n",
      "1.4142135623730951\n",
      "0.0\n"
     ]
    }
   ],
   "source": [
    "import math\n",
    "\n",
    "class Point:\n",
    "    x = 4\n",
    "    y = 2\n",
    "\n",
    "    def reset(self):\n",
    "        self.x = 0\n",
    "        self.y = 0\n",
    "\n",
    "    def left(self, move):\n",
    "        self.x -= move\n",
    "\n",
    "    def move(self, mx, my):\n",
    "        self.x += mx\n",
    "        self.y += my\n",
    "\n",
    "    def dist(self):\n",
    "        return math.sqrt(self.x ** 2 + self.y ** 2)\n",
    "\n",
    "    def dist2(self, other):\n",
    "        return math.sqrt((self.x - other.x) ** 2 + (self.y - other.y) ** 2)\n",
    "\n",
    "\n",
    "p1 = Point()\n",
    "p1.move(-1, 1)\n",
    "p2 = Point()\n",
    "print(p1.dist())\n",
    "print(p1.dist2(p2))\n",
    "print(p1.dist2(p1))"
   ]
  }
 ],
 "metadata": {
  "kernelspec": {
   "display_name": "Python 3",
   "language": "python",
   "name": "python3"
  },
  "language_info": {
   "codemirror_mode": {
    "name": "ipython",
    "version": 3
   },
   "file_extension": ".py",
   "mimetype": "text/x-python",
   "name": "python",
   "nbconvert_exporter": "python",
   "pygments_lexer": "ipython3",
   "version": "3.11.6"
  }
 },
 "nbformat": 4,
 "nbformat_minor": 5
}
